{
  "cells": [
    {
      "cell_type": "markdown",
      "metadata": {
        "id": "h3U5srGUZ7KC"
      },
      "source": [
        "## Introduction"
      ]
    },
    {
      "cell_type": "markdown",
      "metadata": {
        "id": "39juj98nZ9iy"
      },
      "source": [
        "In this jupyter notebook, we will evaluate a pretrained `torchreid` model called `osnet_ain_x1_0`. This particular model is trained on different Re-Id data sets (Market1501, DukeMTMC-ReID, and MSMT17)."
      ]
    },
    {
      "cell_type": "markdown",
      "metadata": {
        "id": "B0xB_j9Ead5h"
      },
      "source": [
        "In order to run the notebook, first mount your google drive and upload the following files:\n",
        "\n",
        "- `osnet_ain_x1_0` model weights (look under multi-source domain generatlization and download the `MS+D+C->M` model version using this [link](https://kaiyangzhou.github.io/deep-person-reid/MODEL_ZOO.html))\n",
        "- 'market1501` dataset which can be downloaded from kaggle using this [link](https://www.kaggle.com/datasets/pengcw1/market-1501)\n",
        "\n",
        "\n",
        "\n",
        "\n",
        "For now download these datasets and upload them to your google drive."
      ]
    },
    {
      "cell_type": "markdown",
      "metadata": {
        "id": "OCb8y8w7ci7w"
      },
      "source": [
        "## Data paths"
      ]
    },
    {
      "cell_type": "code",
      "execution_count": 1,
      "metadata": {
        "colab": {
          "base_uri": "https://localhost:8080/"
        },
        "id": "3In0z5vIcnHu",
        "outputId": "ef939a92-1ab0-4413-a99f-3814f12a3dc2"
      },
      "outputs": [
        {
          "data": {
            "text/plain": [
              "['NeurIPS 2022.gsheet',\n",
              " 'Meet Recordings',\n",
              " 'poverty-mapping',\n",
              " 'Colab Notebooks',\n",
              " 'Poverty Mapping: Results.gdoc',\n",
              " 'poverty-mapping-literature',\n",
              " 'Kim, Moses - Regularization Self-Evaluation',\n",
              " 'vhm-ysmb-kkf - Aug 24, 2022.gjam',\n",
              " 'FunML',\n",
              " 'poverty-mapping-data',\n",
              " 'ML Walk-In Clinic.gslides',\n",
              " 'ML Walk-In Clinic: Consulting Best Practices and Standards.gdoc',\n",
              " 'ML Walk-In Clinic',\n",
              " 'Untitled document.gdoc',\n",
              " 'playground',\n",
              " 'big-ml-team',\n",
              " 'Poverty Mapping in SEA: Rollout Challenges.gdoc',\n",
              " 'ML_20220311_December.csv.zip',\n",
              " 'psa',\n",
              " 'powerpoint',\n",
              " 'Resume: Moses Kim.gdoc',\n",
              " 'Learning',\n",
              " 'Market-1501-v15.09.15.zip',\n",
              " 'Person_reID_baseline_pytorch',\n",
              " 'reid',\n",
              " 'deep-person-reid',\n",
              " 'reid-output']"
            ]
          },
          "execution_count": 1,
          "metadata": {},
          "output_type": "execute_result"
        }
      ],
      "source": [
        "# change your root path\n",
        "import os\n",
        "\n",
        "path = \"/content/drive/MyDrive\"  # root\n",
        "os.chdir(path)\n",
        "os.listdir(path)"
      ]
    },
    {
      "cell_type": "code",
      "execution_count": 11,
      "metadata": {
        "id": "SX4q9hyucynO"
      },
      "outputs": [],
      "source": [
        "parent_dir = \"Learning\"  # couldn't think about a better name\n",
        "\n",
        "# create the data directory reid-data\n",
        "dir_name = \"reid-data\"\n",
        "dir_path = os.path.join(path, parent_dir, dir_name)\n",
        "if not os.path.exists(dir_path):\n",
        "    os.makedirs(dir_path)\n",
        "\n",
        "# create the model directory reid-models\n",
        "models_path = os.path.join(path, parent_dir, \"reid-models\")\n",
        "if not os.path.exists(models_path):\n",
        "    os.makedirs(models_path)\n"
      ]
    },
    {
      "cell_type": "markdown",
      "metadata": {
        "id": "hrRj78cCdp4J"
      },
      "source": [
        "Once you have run the two cells above, upload both model weights and datasets following the directory structure below.\n",
        "\n",
        "```\n",
        "<root>\n",
        "└───<parent-directory>\n",
        "    │   ...\n",
        "    │   ...     \n",
        "    └───reid-data\n",
        "    │   └───market1501\n",
        "    │       └───Market-1501-v15.09.15\n",
        "    │       │   └───bounding_box_test\n",
        "    │       │   └───bounding_box_train\n",
        "    │       │   └───query\n",
        "    └───reid-models\n",
        "        │   osnet_ain_ms_d_c.pth.tar\n",
        "        │   ...\n",
        "```"
      ]
    },
    {
      "cell_type": "markdown",
      "metadata": {
        "id": "mEY6rAPYgEde"
      },
      "source": [
        "## `torchreid` installation"
      ]
    },
    {
      "cell_type": "code",
      "execution_count": 3,
      "metadata": {
        "id": "zSIzbqMjZJV6"
      },
      "outputs": [],
      "source": [
        "# don't download twice\n",
        "repo_dir_path = os.path.join(path, \"deep-person-reid\")\n",
        "\n",
        "if not os.path.exists(repo_dir_path):\n",
        "    repo_path = \"https://github.com/KaiyangZhou/deep-person-reid.git\"\n",
        "    os.system(f\"git clone {repo_path}\")"
      ]
    },
    {
      "cell_type": "code",
      "execution_count": 4,
      "metadata": {
        "colab": {
          "base_uri": "https://localhost:8080/"
        },
        "id": "v7ykL84tgT3y",
        "outputId": "4e0a0646-cabc-427e-a903-8a6e2c9aa74b"
      },
      "outputs": [
        {
          "name": "stdout",
          "output_type": "stream",
          "text": [
            "/content/drive/MyDrive/deep-person-reid\n",
            "Looking in indexes: https://pypi.org/simple, https://us-python.pkg.dev/colab-wheels/public/simple/\n",
            "Requirement already satisfied: numpy in /usr/local/lib/python3.8/dist-packages (from -r requirements.txt (line 1)) (1.21.6)\n",
            "Requirement already satisfied: Cython in /usr/local/lib/python3.8/dist-packages (from -r requirements.txt (line 2)) (0.29.32)\n",
            "Requirement already satisfied: h5py in /usr/local/lib/python3.8/dist-packages (from -r requirements.txt (line 3)) (3.1.0)\n",
            "Requirement already satisfied: Pillow in /usr/local/lib/python3.8/dist-packages (from -r requirements.txt (line 4)) (7.1.2)\n",
            "Requirement already satisfied: six in /usr/local/lib/python3.8/dist-packages (from -r requirements.txt (line 5)) (1.15.0)\n",
            "Requirement already satisfied: scipy in /usr/local/lib/python3.8/dist-packages (from -r requirements.txt (line 6)) (1.7.3)\n",
            "Requirement already satisfied: opencv-python in /usr/local/lib/python3.8/dist-packages (from -r requirements.txt (line 7)) (4.6.0.66)\n",
            "Requirement already satisfied: matplotlib in /usr/local/lib/python3.8/dist-packages (from -r requirements.txt (line 8)) (3.2.2)\n",
            "Collecting tb-nightly\n",
            "  Downloading tb_nightly-2.12.0a20221203-py3-none-any.whl (5.7 MB)\n",
            "\u001b[K     |████████████████████████████████| 5.7 MB 4.1 MB/s \n",
            "\u001b[?25hRequirement already satisfied: future in /usr/local/lib/python3.8/dist-packages (from -r requirements.txt (line 10)) (0.16.0)\n",
            "Collecting yacs\n",
            "  Downloading yacs-0.1.8-py3-none-any.whl (14 kB)\n",
            "Requirement already satisfied: gdown in /usr/local/lib/python3.8/dist-packages (from -r requirements.txt (line 12)) (4.4.0)\n",
            "Collecting flake8\n",
            "  Downloading flake8-6.0.0-py2.py3-none-any.whl (57 kB)\n",
            "\u001b[K     |████████████████████████████████| 57 kB 5.4 MB/s \n",
            "\u001b[?25hCollecting yapf\n",
            "  Downloading yapf-0.32.0-py2.py3-none-any.whl (190 kB)\n",
            "\u001b[K     |████████████████████████████████| 190 kB 60.4 MB/s \n",
            "\u001b[?25hCollecting isort==4.3.21\n",
            "  Downloading isort-4.3.21-py2.py3-none-any.whl (42 kB)\n",
            "\u001b[K     |████████████████████████████████| 42 kB 1.0 MB/s \n",
            "\u001b[?25hRequirement already satisfied: imageio in /usr/local/lib/python3.8/dist-packages (from -r requirements.txt (line 16)) (2.9.0)\n",
            "Requirement already satisfied: python-dateutil>=2.1 in /usr/local/lib/python3.8/dist-packages (from matplotlib->-r requirements.txt (line 8)) (2.8.2)\n",
            "Requirement already satisfied: pyparsing!=2.0.4,!=2.1.2,!=2.1.6,>=2.0.1 in /usr/local/lib/python3.8/dist-packages (from matplotlib->-r requirements.txt (line 8)) (3.0.9)\n",
            "Requirement already satisfied: kiwisolver>=1.0.1 in /usr/local/lib/python3.8/dist-packages (from matplotlib->-r requirements.txt (line 8)) (1.4.4)\n",
            "Requirement already satisfied: cycler>=0.10 in /usr/local/lib/python3.8/dist-packages (from matplotlib->-r requirements.txt (line 8)) (0.11.0)\n",
            "Requirement already satisfied: absl-py>=0.4 in /usr/local/lib/python3.8/dist-packages (from tb-nightly->-r requirements.txt (line 9)) (1.3.0)\n",
            "Requirement already satisfied: werkzeug>=1.0.1 in /usr/local/lib/python3.8/dist-packages (from tb-nightly->-r requirements.txt (line 9)) (1.0.1)\n",
            "Requirement already satisfied: wheel>=0.26 in /usr/local/lib/python3.8/dist-packages (from tb-nightly->-r requirements.txt (line 9)) (0.38.4)\n",
            "Requirement already satisfied: google-auth<3,>=1.6.3 in /usr/local/lib/python3.8/dist-packages (from tb-nightly->-r requirements.txt (line 9)) (2.14.1)\n",
            "Requirement already satisfied: tensorboard-data-server<0.7.0,>=0.6.0 in /usr/local/lib/python3.8/dist-packages (from tb-nightly->-r requirements.txt (line 9)) (0.6.1)\n",
            "Requirement already satisfied: grpcio>=1.24.3 in /usr/local/lib/python3.8/dist-packages (from tb-nightly->-r requirements.txt (line 9)) (1.50.0)\n",
            "Requirement already satisfied: setuptools>=41.0.0 in /usr/local/lib/python3.8/dist-packages (from tb-nightly->-r requirements.txt (line 9)) (57.4.0)\n",
            "Requirement already satisfied: google-auth-oauthlib<0.5,>=0.4.1 in /usr/local/lib/python3.8/dist-packages (from tb-nightly->-r requirements.txt (line 9)) (0.4.6)\n",
            "Requirement already satisfied: markdown>=2.6.8 in /usr/local/lib/python3.8/dist-packages (from tb-nightly->-r requirements.txt (line 9)) (3.4.1)\n",
            "Requirement already satisfied: protobuf<4,>=3.9.2 in /usr/local/lib/python3.8/dist-packages (from tb-nightly->-r requirements.txt (line 9)) (3.19.6)\n",
            "Requirement already satisfied: requests<3,>=2.21.0 in /usr/local/lib/python3.8/dist-packages (from tb-nightly->-r requirements.txt (line 9)) (2.23.0)\n",
            "Requirement already satisfied: tensorboard-plugin-wit>=1.6.0 in /usr/local/lib/python3.8/dist-packages (from tb-nightly->-r requirements.txt (line 9)) (1.8.1)\n",
            "Requirement already satisfied: pyasn1-modules>=0.2.1 in /usr/local/lib/python3.8/dist-packages (from google-auth<3,>=1.6.3->tb-nightly->-r requirements.txt (line 9)) (0.2.8)\n",
            "Requirement already satisfied: rsa<5,>=3.1.4 in /usr/local/lib/python3.8/dist-packages (from google-auth<3,>=1.6.3->tb-nightly->-r requirements.txt (line 9)) (4.9)\n",
            "Requirement already satisfied: cachetools<6.0,>=2.0.0 in /usr/local/lib/python3.8/dist-packages (from google-auth<3,>=1.6.3->tb-nightly->-r requirements.txt (line 9)) (5.2.0)\n",
            "Requirement already satisfied: requests-oauthlib>=0.7.0 in /usr/local/lib/python3.8/dist-packages (from google-auth-oauthlib<0.5,>=0.4.1->tb-nightly->-r requirements.txt (line 9)) (1.3.1)\n",
            "Requirement already satisfied: importlib-metadata>=4.4 in /usr/local/lib/python3.8/dist-packages (from markdown>=2.6.8->tb-nightly->-r requirements.txt (line 9)) (4.13.0)\n",
            "Requirement already satisfied: zipp>=0.5 in /usr/local/lib/python3.8/dist-packages (from importlib-metadata>=4.4->markdown>=2.6.8->tb-nightly->-r requirements.txt (line 9)) (3.10.0)\n",
            "Requirement already satisfied: pyasn1<0.5.0,>=0.4.6 in /usr/local/lib/python3.8/dist-packages (from pyasn1-modules>=0.2.1->google-auth<3,>=1.6.3->tb-nightly->-r requirements.txt (line 9)) (0.4.8)\n",
            "Requirement already satisfied: certifi>=2017.4.17 in /usr/local/lib/python3.8/dist-packages (from requests<3,>=2.21.0->tb-nightly->-r requirements.txt (line 9)) (2022.9.24)\n",
            "Requirement already satisfied: idna<3,>=2.5 in /usr/local/lib/python3.8/dist-packages (from requests<3,>=2.21.0->tb-nightly->-r requirements.txt (line 9)) (2.10)\n",
            "Requirement already satisfied: urllib3!=1.25.0,!=1.25.1,<1.26,>=1.21.1 in /usr/local/lib/python3.8/dist-packages (from requests<3,>=2.21.0->tb-nightly->-r requirements.txt (line 9)) (1.24.3)\n",
            "Requirement already satisfied: chardet<4,>=3.0.2 in /usr/local/lib/python3.8/dist-packages (from requests<3,>=2.21.0->tb-nightly->-r requirements.txt (line 9)) (3.0.4)\n",
            "Requirement already satisfied: oauthlib>=3.0.0 in /usr/local/lib/python3.8/dist-packages (from requests-oauthlib>=0.7.0->google-auth-oauthlib<0.5,>=0.4.1->tb-nightly->-r requirements.txt (line 9)) (3.2.2)\n",
            "Requirement already satisfied: PyYAML in /usr/local/lib/python3.8/dist-packages (from yacs->-r requirements.txt (line 11)) (6.0)\n",
            "Requirement already satisfied: tqdm in /usr/local/lib/python3.8/dist-packages (from gdown->-r requirements.txt (line 12)) (4.64.1)\n",
            "Requirement already satisfied: beautifulsoup4 in /usr/local/lib/python3.8/dist-packages (from gdown->-r requirements.txt (line 12)) (4.6.3)\n",
            "Requirement already satisfied: filelock in /usr/local/lib/python3.8/dist-packages (from gdown->-r requirements.txt (line 12)) (3.8.0)\n",
            "Collecting pyflakes<3.1.0,>=3.0.0\n",
            "  Downloading pyflakes-3.0.1-py2.py3-none-any.whl (62 kB)\n",
            "\u001b[K     |████████████████████████████████| 62 kB 1.2 MB/s \n",
            "\u001b[?25hCollecting mccabe<0.8.0,>=0.7.0\n",
            "  Downloading mccabe-0.7.0-py2.py3-none-any.whl (7.3 kB)\n",
            "Collecting pycodestyle<2.11.0,>=2.10.0\n",
            "  Downloading pycodestyle-2.10.0-py2.py3-none-any.whl (41 kB)\n",
            "\u001b[K     |████████████████████████████████| 41 kB 247 kB/s \n",
            "\u001b[?25hRequirement already satisfied: PySocks!=1.5.7,>=1.5.6 in /usr/local/lib/python3.8/dist-packages (from requests<3,>=2.21.0->tb-nightly->-r requirements.txt (line 9)) (1.7.1)\n",
            "Installing collected packages: pyflakes, pycodestyle, mccabe, yapf, yacs, tb-nightly, isort, flake8\n",
            "Successfully installed flake8-6.0.0 isort-4.3.21 mccabe-0.7.0 pycodestyle-2.10.0 pyflakes-3.0.1 tb-nightly-2.12.0a20221203 yacs-0.1.8 yapf-0.32.0\n"
          ]
        }
      ],
      "source": [
        "# cd into repo and install requirements \n",
        "\n",
        "%cd /content/drive/MyDrive/deep-person-reid/\n",
        "!pip install -r requirements.txt"
      ]
    },
    {
      "cell_type": "code",
      "execution_count": 5,
      "metadata": {
        "colab": {
          "base_uri": "https://localhost:8080/"
        },
        "id": "jJ5ssIGpgcIy",
        "outputId": "ee0c939a-aae8-43e9-d9a3-b5be807e3e89"
      },
      "outputs": [
        {
          "name": "stdout",
          "output_type": "stream",
          "text": [
            "Looking in indexes: https://pypi.org/simple, https://us-python.pkg.dev/colab-wheels/public/simple/\n",
            "Requirement already satisfied: torch in /usr/local/lib/python3.8/dist-packages (1.12.1+cu113)\n",
            "Requirement already satisfied: torchvision in /usr/local/lib/python3.8/dist-packages (0.13.1+cu113)\n",
            "Requirement already satisfied: typing-extensions in /usr/local/lib/python3.8/dist-packages (from torch) (4.1.1)\n",
            "Requirement already satisfied: pillow!=8.3.*,>=5.3.0 in /usr/local/lib/python3.8/dist-packages (from torchvision) (7.1.2)\n",
            "Requirement already satisfied: requests in /usr/local/lib/python3.8/dist-packages (from torchvision) (2.23.0)\n",
            "Requirement already satisfied: numpy in /usr/local/lib/python3.8/dist-packages (from torchvision) (1.21.6)\n",
            "Requirement already satisfied: idna<3,>=2.5 in /usr/local/lib/python3.8/dist-packages (from requests->torchvision) (2.10)\n",
            "Requirement already satisfied: certifi>=2017.4.17 in /usr/local/lib/python3.8/dist-packages (from requests->torchvision) (2022.9.24)\n",
            "Requirement already satisfied: urllib3!=1.25.0,!=1.25.1,<1.26,>=1.21.1 in /usr/local/lib/python3.8/dist-packages (from requests->torchvision) (1.24.3)\n",
            "Requirement already satisfied: chardet<4,>=3.0.2 in /usr/local/lib/python3.8/dist-packages (from requests->torchvision) (3.0.4)\n"
          ]
        }
      ],
      "source": [
        "# install torch and torchvision\n",
        "# (should be installed by defaults)\n",
        "\n",
        "!pip install torch torchvision"
      ]
    },
    {
      "cell_type": "code",
      "execution_count": 6,
      "metadata": {
        "colab": {
          "base_uri": "https://localhost:8080/"
        },
        "id": "EcsVuB4Sgyvq",
        "outputId": "074636fa-607a-48c1-8494-5136986d26e1"
      },
      "outputs": [
        {
          "name": "stdout",
          "output_type": "stream",
          "text": [
            "running develop\n",
            "running egg_info\n",
            "writing torchreid.egg-info/PKG-INFO\n",
            "writing dependency_links to torchreid.egg-info/dependency_links.txt\n",
            "writing requirements to torchreid.egg-info/requires.txt\n",
            "writing top-level names to torchreid.egg-info/top_level.txt\n",
            "adding license file 'LICENSE'\n",
            "writing manifest file 'torchreid.egg-info/SOURCES.txt'\n",
            "running build_ext\n",
            "copying build/lib.linux-x86_64-3.8/torchreid/metrics/rank_cylib/rank_cy.cpython-38-x86_64-linux-gnu.so -> torchreid/metrics/rank_cylib\n",
            "Creating /usr/local/lib/python3.8/dist-packages/torchreid.egg-link (link to .)\n",
            "Adding torchreid 1.4.0 to easy-install.pth file\n",
            "\n",
            "Installed /content/drive/MyDrive/deep-person-reid\n",
            "Processing dependencies for torchreid==1.4.0\n",
            "Searching for imageio==2.9.0\n",
            "Best match: imageio 2.9.0\n",
            "Adding imageio 2.9.0 to easy-install.pth file\n",
            "Installing imageio_download_bin script to /usr/local/bin\n",
            "Installing imageio_remove_bin script to /usr/local/bin\n",
            "\n",
            "Using /usr/local/lib/python3.8/dist-packages\n",
            "Searching for isort==4.3.21\n",
            "Best match: isort 4.3.21\n",
            "Adding isort 4.3.21 to easy-install.pth file\n",
            "Installing isort script to /usr/local/bin\n",
            "\n",
            "Using /usr/local/lib/python3.8/dist-packages\n",
            "Searching for yapf==0.32.0\n",
            "Best match: yapf 0.32.0\n",
            "Adding yapf 0.32.0 to easy-install.pth file\n",
            "Installing yapf script to /usr/local/bin\n",
            "Installing yapf-diff script to /usr/local/bin\n",
            "\n",
            "Using /usr/local/lib/python3.8/dist-packages\n",
            "Searching for flake8==6.0.0\n",
            "Best match: flake8 6.0.0\n",
            "Adding flake8 6.0.0 to easy-install.pth file\n",
            "Installing flake8 script to /usr/local/bin\n",
            "\n",
            "Using /usr/local/lib/python3.8/dist-packages\n",
            "Searching for gdown==4.4.0\n",
            "Best match: gdown 4.4.0\n",
            "Adding gdown 4.4.0 to easy-install.pth file\n",
            "Installing gdown script to /usr/local/bin\n",
            "\n",
            "Using /usr/local/lib/python3.8/dist-packages\n",
            "Searching for yacs==0.1.8\n",
            "Best match: yacs 0.1.8\n",
            "Adding yacs 0.1.8 to easy-install.pth file\n",
            "\n",
            "Using /usr/local/lib/python3.8/dist-packages\n",
            "Searching for future==0.16.0\n",
            "Best match: future 0.16.0\n",
            "Adding future 0.16.0 to easy-install.pth file\n",
            "Installing futurize script to /usr/local/bin\n",
            "Installing pasteurize script to /usr/local/bin\n",
            "\n",
            "Using /usr/local/lib/python3.8/dist-packages\n",
            "Searching for tb-nightly==2.12.0a20221203\n",
            "Best match: tb-nightly 2.12.0a20221203\n",
            "Adding tb-nightly 2.12.0a20221203 to easy-install.pth file\n",
            "Installing tensorboard script to /usr/local/bin\n",
            "\n",
            "Using /usr/local/lib/python3.8/dist-packages\n",
            "Searching for matplotlib==3.2.2\n",
            "Best match: matplotlib 3.2.2\n",
            "Adding matplotlib 3.2.2 to easy-install.pth file\n",
            "\n",
            "Using /usr/local/lib/python3.8/dist-packages\n",
            "Searching for opencv-python==4.6.0.66\n",
            "Best match: opencv-python 4.6.0.66\n",
            "Adding opencv-python 4.6.0.66 to easy-install.pth file\n",
            "\n",
            "Using /usr/local/lib/python3.8/dist-packages\n",
            "Searching for scipy==1.7.3\n",
            "Best match: scipy 1.7.3\n",
            "Adding scipy 1.7.3 to easy-install.pth file\n",
            "\n",
            "Using /usr/local/lib/python3.8/dist-packages\n",
            "Searching for six==1.15.0\n",
            "Best match: six 1.15.0\n",
            "Adding six 1.15.0 to easy-install.pth file\n",
            "\n",
            "Using /usr/local/lib/python3.8/dist-packages\n",
            "Searching for Pillow==7.1.2\n",
            "Best match: Pillow 7.1.2\n",
            "Adding Pillow 7.1.2 to easy-install.pth file\n",
            "\n",
            "Using /usr/local/lib/python3.8/dist-packages\n",
            "Searching for h5py==3.1.0\n",
            "Best match: h5py 3.1.0\n",
            "Adding h5py 3.1.0 to easy-install.pth file\n",
            "\n",
            "Using /usr/local/lib/python3.8/dist-packages\n",
            "Searching for Cython==0.29.32\n",
            "Best match: Cython 0.29.32\n",
            "Adding Cython 0.29.32 to easy-install.pth file\n",
            "Installing cygdb script to /usr/local/bin\n",
            "Installing cython script to /usr/local/bin\n",
            "Installing cythonize script to /usr/local/bin\n",
            "\n",
            "Using /usr/local/lib/python3.8/dist-packages\n",
            "Searching for numpy==1.21.6\n",
            "Best match: numpy 1.21.6\n",
            "Adding numpy 1.21.6 to easy-install.pth file\n",
            "Installing f2py script to /usr/local/bin\n",
            "Installing f2py3 script to /usr/local/bin\n",
            "Installing f2py3.8 script to /usr/local/bin\n",
            "\n",
            "Using /usr/local/lib/python3.8/dist-packages\n",
            "Searching for pyflakes==3.0.1\n",
            "Best match: pyflakes 3.0.1\n",
            "Adding pyflakes 3.0.1 to easy-install.pth file\n",
            "Installing pyflakes script to /usr/local/bin\n",
            "\n",
            "Using /usr/local/lib/python3.8/dist-packages\n",
            "Searching for pycodestyle==2.10.0\n",
            "Best match: pycodestyle 2.10.0\n",
            "Adding pycodestyle 2.10.0 to easy-install.pth file\n",
            "Installing pycodestyle script to /usr/local/bin\n",
            "\n",
            "Using /usr/local/lib/python3.8/dist-packages\n",
            "Searching for mccabe==0.7.0\n",
            "Best match: mccabe 0.7.0\n",
            "Adding mccabe 0.7.0 to easy-install.pth file\n",
            "\n",
            "Using /usr/local/lib/python3.8/dist-packages\n",
            "Searching for filelock==3.8.0\n",
            "Best match: filelock 3.8.0\n",
            "Adding filelock 3.8.0 to easy-install.pth file\n",
            "\n",
            "Using /usr/local/lib/python3.8/dist-packages\n",
            "Searching for tqdm==4.64.1\n",
            "Best match: tqdm 4.64.1\n",
            "Adding tqdm 4.64.1 to easy-install.pth file\n",
            "Installing tqdm script to /usr/local/bin\n",
            "\n",
            "Using /usr/local/lib/python3.8/dist-packages\n",
            "Searching for requests==2.23.0\n",
            "Best match: requests 2.23.0\n",
            "Adding requests 2.23.0 to easy-install.pth file\n",
            "\n",
            "Using /usr/local/lib/python3.8/dist-packages\n",
            "Searching for beautifulsoup4==4.6.3\n",
            "Best match: beautifulsoup4 4.6.3\n",
            "Adding beautifulsoup4 4.6.3 to easy-install.pth file\n",
            "\n",
            "Using /usr/local/lib/python3.8/dist-packages\n",
            "Searching for PyYAML==6.0\n",
            "Best match: PyYAML 6.0\n",
            "Adding PyYAML 6.0 to easy-install.pth file\n",
            "\n",
            "Using /usr/local/lib/python3.8/dist-packages\n",
            "Searching for setuptools==57.4.0\n",
            "Best match: setuptools 57.4.0\n",
            "Adding setuptools 57.4.0 to easy-install.pth file\n",
            "\n",
            "Using /usr/local/lib/python3.8/dist-packages\n",
            "Searching for Markdown==3.4.1\n",
            "Best match: Markdown 3.4.1\n",
            "Adding Markdown 3.4.1 to easy-install.pth file\n",
            "Installing markdown_py script to /usr/local/bin\n",
            "\n",
            "Using /usr/local/lib/python3.8/dist-packages\n",
            "Searching for tensorboard-plugin-wit==1.8.1\n",
            "Best match: tensorboard-plugin-wit 1.8.1\n",
            "Adding tensorboard-plugin-wit 1.8.1 to easy-install.pth file\n",
            "\n",
            "Using /usr/local/lib/python3.8/dist-packages\n",
            "Searching for tensorboard-data-server==0.6.1\n",
            "Best match: tensorboard-data-server 0.6.1\n",
            "Adding tensorboard-data-server 0.6.1 to easy-install.pth file\n",
            "\n",
            "Using /usr/local/lib/python3.8/dist-packages\n",
            "Searching for google-auth-oauthlib==0.4.6\n",
            "Best match: google-auth-oauthlib 0.4.6\n",
            "Adding google-auth-oauthlib 0.4.6 to easy-install.pth file\n",
            "Installing google-oauthlib-tool script to /usr/local/bin\n",
            "\n",
            "Using /usr/local/lib/python3.8/dist-packages\n",
            "Searching for wheel==0.38.4\n",
            "Best match: wheel 0.38.4\n",
            "Adding wheel 0.38.4 to easy-install.pth file\n",
            "Installing wheel script to /usr/local/bin\n",
            "\n",
            "Using /usr/local/lib/python3.8/dist-packages\n",
            "Searching for protobuf==3.19.6\n",
            "Best match: protobuf 3.19.6\n",
            "Adding protobuf 3.19.6 to easy-install.pth file\n",
            "\n",
            "Using /usr/local/lib/python3.8/dist-packages\n",
            "Searching for google-auth==2.14.1\n",
            "Best match: google-auth 2.14.1\n",
            "Adding google-auth 2.14.1 to easy-install.pth file\n",
            "\n",
            "Using /usr/local/lib/python3.8/dist-packages\n",
            "Searching for absl-py==1.3.0\n",
            "Best match: absl-py 1.3.0\n",
            "Adding absl-py 1.3.0 to easy-install.pth file\n",
            "\n",
            "Using /usr/local/lib/python3.8/dist-packages\n",
            "Searching for Werkzeug==1.0.1\n",
            "Best match: Werkzeug 1.0.1\n",
            "Adding Werkzeug 1.0.1 to easy-install.pth file\n",
            "\n",
            "Using /usr/local/lib/python3.8/dist-packages\n",
            "Searching for grpcio==1.50.0\n",
            "Best match: grpcio 1.50.0\n",
            "Adding grpcio 1.50.0 to easy-install.pth file\n",
            "\n",
            "Using /usr/local/lib/python3.8/dist-packages\n",
            "Searching for cycler==0.11.0\n",
            "Best match: cycler 0.11.0\n",
            "Adding cycler 0.11.0 to easy-install.pth file\n",
            "\n",
            "Using /usr/local/lib/python3.8/dist-packages\n",
            "Searching for kiwisolver==1.4.4\n",
            "Best match: kiwisolver 1.4.4\n",
            "Adding kiwisolver 1.4.4 to easy-install.pth file\n",
            "\n",
            "Using /usr/local/lib/python3.8/dist-packages\n",
            "Searching for python-dateutil==2.8.2\n",
            "Best match: python-dateutil 2.8.2\n",
            "Adding python-dateutil 2.8.2 to easy-install.pth file\n",
            "\n",
            "Using /usr/local/lib/python3.8/dist-packages\n",
            "Searching for pyparsing==3.0.9\n",
            "Best match: pyparsing 3.0.9\n",
            "Adding pyparsing 3.0.9 to easy-install.pth file\n",
            "\n",
            "Using /usr/local/lib/python3.8/dist-packages\n",
            "Searching for PySocks==1.7.1\n",
            "Best match: PySocks 1.7.1\n",
            "Adding PySocks 1.7.1 to easy-install.pth file\n",
            "\n",
            "Using /usr/local/lib/python3.8/dist-packages\n",
            "Searching for certifi==2022.9.24\n",
            "Best match: certifi 2022.9.24\n",
            "Adding certifi 2022.9.24 to easy-install.pth file\n",
            "\n",
            "Using /usr/local/lib/python3.8/dist-packages\n",
            "Searching for chardet==3.0.4\n",
            "Best match: chardet 3.0.4\n",
            "Adding chardet 3.0.4 to easy-install.pth file\n",
            "Installing chardetect script to /usr/local/bin\n",
            "\n",
            "Using /usr/local/lib/python3.8/dist-packages\n",
            "Searching for idna==2.10\n",
            "Best match: idna 2.10\n",
            "Adding idna 2.10 to easy-install.pth file\n",
            "\n",
            "Using /usr/local/lib/python3.8/dist-packages\n",
            "Searching for urllib3==1.24.3\n",
            "Best match: urllib3 1.24.3\n",
            "Adding urllib3 1.24.3 to easy-install.pth file\n",
            "\n",
            "Using /usr/local/lib/python3.8/dist-packages\n",
            "Searching for importlib-metadata==4.13.0\n",
            "Best match: importlib-metadata 4.13.0\n",
            "Adding importlib-metadata 4.13.0 to easy-install.pth file\n",
            "\n",
            "Using /usr/local/lib/python3.8/dist-packages\n",
            "Searching for requests-oauthlib==1.3.1\n",
            "Best match: requests-oauthlib 1.3.1\n",
            "Adding requests-oauthlib 1.3.1 to easy-install.pth file\n",
            "\n",
            "Using /usr/local/lib/python3.8/dist-packages\n",
            "Searching for cachetools==5.2.0\n",
            "Best match: cachetools 5.2.0\n",
            "Adding cachetools 5.2.0 to easy-install.pth file\n",
            "\n",
            "Using /usr/local/lib/python3.8/dist-packages\n",
            "Searching for rsa==4.9\n",
            "Best match: rsa 4.9\n",
            "Adding rsa 4.9 to easy-install.pth file\n",
            "Installing pyrsa-decrypt script to /usr/local/bin\n",
            "Installing pyrsa-encrypt script to /usr/local/bin\n",
            "Installing pyrsa-keygen script to /usr/local/bin\n",
            "Installing pyrsa-priv2pub script to /usr/local/bin\n",
            "Installing pyrsa-sign script to /usr/local/bin\n",
            "Installing pyrsa-verify script to /usr/local/bin\n",
            "\n",
            "Using /usr/local/lib/python3.8/dist-packages\n",
            "Searching for pyasn1-modules==0.2.8\n",
            "Best match: pyasn1-modules 0.2.8\n",
            "Adding pyasn1-modules 0.2.8 to easy-install.pth file\n",
            "\n",
            "Using /usr/local/lib/python3.8/dist-packages\n",
            "Searching for zipp==3.10.0\n",
            "Best match: zipp 3.10.0\n",
            "Adding zipp 3.10.0 to easy-install.pth file\n",
            "\n",
            "Using /usr/local/lib/python3.8/dist-packages\n",
            "Searching for oauthlib==3.2.2\n",
            "Best match: oauthlib 3.2.2\n",
            "Adding oauthlib 3.2.2 to easy-install.pth file\n",
            "\n",
            "Using /usr/local/lib/python3.8/dist-packages\n",
            "Searching for pyasn1==0.4.8\n",
            "Best match: pyasn1 0.4.8\n",
            "Adding pyasn1 0.4.8 to easy-install.pth file\n",
            "\n",
            "Using /usr/local/lib/python3.8/dist-packages\n",
            "Finished processing dependencies for torchreid==1.4.0\n"
          ]
        }
      ],
      "source": [
        "# finally, install torchreid package\n",
        "!python setup.py develop"
      ]
    },
    {
      "cell_type": "code",
      "execution_count": 7,
      "metadata": {
        "id": "pWslmn0Bg6gd"
      },
      "outputs": [],
      "source": [
        "# check\n",
        "import torchreid"
      ]
    },
    {
      "cell_type": "code",
      "execution_count": 8,
      "metadata": {
        "id": "BafG3GCXg7ux"
      },
      "outputs": [],
      "source": [
        "# now change back to root\n",
        "# or wherever you wish to save output\n",
        "\n",
        "output_name = \"reid-output\"\n",
        "output_path = os.path.join(\n",
        "    path,\n",
        "    parent_dir,\n",
        "    output_name\n",
        ")\n",
        "\n",
        "if not os.path.exists(output_path):\n",
        "    os.makedirs(output_path)\n",
        "\n",
        "os.chdir(output_path)"
      ]
    },
    {
      "cell_type": "markdown",
      "metadata": {
        "id": "I6BfQTJGhavk"
      },
      "source": [
        "## Load Model"
      ]
    },
    {
      "cell_type": "code",
      "execution_count": 9,
      "metadata": {
        "id": "zY8ldRzcjTHI"
      },
      "outputs": [],
      "source": [
        "from torchreid import models, utils, engine"
      ]
    },
    {
      "cell_type": "code",
      "execution_count": 12,
      "metadata": {
        "colab": {
          "base_uri": "https://localhost:8080/"
        },
        "id": "mu0OzuILhZIK",
        "outputId": "63c5dff5-e540-466b-8095-c11b9a3ecb53"
      },
      "outputs": [
        {
          "name": "stdout",
          "output_type": "stream",
          "text": [
            "Successfully loaded imagenet pretrained weights from \"/root/.cache/torch/checkpoints/osnet_ain_x1_0_imagenet.pth\"\n",
            "** The following layers are discarded due to unmatched keys or layer size: ['classifier.weight', 'classifier.bias']\n",
            "Successfully loaded pretrained weights from \"/content/drive/MyDrive/Learning/reid-models/osnet_ain_ms_d_c.pth.tar\"\n",
            "** The following layers are discarded due to unmatched keys or layer size: ['classifier.weight', 'classifier.bias']\n"
          ]
        }
      ],
      "source": [
        "model_wt_filename = \"osnet_ain_ms_d_c.pth.tar\"\n",
        "\n",
        "weight_path = os.path.join(\n",
        "    models_path,\n",
        "    model_wt_filename\n",
        ")\n",
        "\n",
        "# backbone\n",
        "num_classes = 1501 + 1467 + 1404  # unique ids from Market1501, MSMT17, and DukeMTMC-reID datasets\n",
        "model = models.build_model(\n",
        "    name='osnet_ain_x1_0',\n",
        "    num_classes=num_classes,  # the only way is to have access to the data\n",
        "    loss='softmax',\n",
        "    pretrained=True,\n",
        "    use_gpu=False   # colab might have usage limits; was able to train using gpu though\n",
        ")\n",
        "\n",
        "# finally, load weights\n",
        "utils.load_pretrained_weights(model, weight_path)"
      ]
    },
    {
      "cell_type": "markdown",
      "metadata": {
        "id": "XerKyzxSkEic"
      },
      "source": [
        "## Evaluate Model"
      ]
    },
    {
      "cell_type": "code",
      "execution_count": 16,
      "metadata": {
        "colab": {
          "base_uri": "https://localhost:8080/"
        },
        "id": "BERDJHFykEHl",
        "outputId": "5ba1f276-da5a-4f08-8121-d9be0fe1da4a"
      },
      "outputs": [
        {
          "name": "stdout",
          "output_type": "stream",
          "text": [
            "Building train transforms ...\n",
            "+ resize to 256x128\n",
            "+ random flip\n",
            "+ to torch tensor of range [0, 1]\n",
            "+ normalization (mean=[0.485, 0.456, 0.406], std=[0.229, 0.224, 0.225])\n",
            "Building test transforms ...\n",
            "+ resize to 256x128\n",
            "+ to torch tensor of range [0, 1]\n",
            "+ normalization (mean=[0.485, 0.456, 0.406], std=[0.229, 0.224, 0.225])\n",
            "=> Loading train (source) dataset\n",
            "=> Loaded Market1501\n",
            "  ----------------------------------------\n",
            "  subset   | # ids | # images | # cameras\n",
            "  ----------------------------------------\n",
            "  train    |  1501 |    29419 |         6\n",
            "  query    |   750 |     3368 |         6\n",
            "  gallery  |   751 |    15913 |         6\n",
            "  ----------------------------------------\n",
            "=> Loading test (target) dataset\n"
          ]
        },
        {
          "name": "stderr",
          "output_type": "stream",
          "text": [
            "/usr/local/lib/python3.8/dist-packages/torch/utils/data/dataloader.py:563: UserWarning: This DataLoader will create 4 worker processes in total. Our suggested max number of worker in current system is 2, which is smaller than what this DataLoader is going to create. Please be aware that excessive worker creation might get DataLoader running slow or even freeze, lower the worker number to avoid potential slowness/freeze if necessary.\n",
            "  warnings.warn(_create_warning_msg(\n"
          ]
        },
        {
          "name": "stdout",
          "output_type": "stream",
          "text": [
            "=> Loaded Market1501\n",
            "  ----------------------------------------\n",
            "  subset   | # ids | # images | # cameras\n",
            "  ----------------------------------------\n",
            "  train    |  1501 |    29419 |         6\n",
            "  query    |   750 |     3368 |         6\n",
            "  gallery  |   751 |    15913 |         6\n",
            "  ----------------------------------------\n",
            "\n",
            "\n",
            "  **************** Summary ****************\n",
            "  source            : ['market1501']\n",
            "  # source datasets : 1\n",
            "  # source ids      : 1501\n",
            "  # source images   : 29419\n",
            "  # source cameras  : 6\n",
            "  target            : ['market1501']\n",
            "  *****************************************\n",
            "\n",
            "\n",
            "##### Evaluating market1501 (source) #####\n",
            "Extracting features from query set ...\n",
            "Done, obtained 3368-by-512 matrix\n",
            "Extracting features from gallery set ...\n",
            "Done, obtained 15913-by-512 matrix\n",
            "Speed: 39.9016 sec/batch\n",
            "Computing distance matrix with metric=euclidean ...\n",
            "Computing CMC and mAP ...\n",
            "** Results **\n",
            "mAP: 43.8%\n",
            "CMC curve\n",
            "Rank-1  : 72.4%\n",
            "Rank-5  : 85.9%\n",
            "Rank-10 : 89.8%\n",
            "Rank-20 : 93.1%\n",
            "# query: 3368\n",
            "# gallery 15913\n",
            "Visualizing top-10 ranks ...\n",
            "- done 100/3368\n",
            "- done 200/3368\n",
            "- done 300/3368\n",
            "- done 400/3368\n",
            "- done 500/3368\n",
            "- done 600/3368\n",
            "- done 700/3368\n",
            "- done 800/3368\n",
            "- done 900/3368\n",
            "- done 1000/3368\n",
            "- done 1100/3368\n",
            "- done 1200/3368\n",
            "- done 1300/3368\n",
            "- done 1400/3368\n",
            "- done 1500/3368\n",
            "- done 1600/3368\n",
            "- done 1700/3368\n",
            "- done 1800/3368\n",
            "- done 1900/3368\n",
            "- done 2000/3368\n",
            "- done 2100/3368\n",
            "- done 2200/3368\n",
            "- done 2300/3368\n",
            "- done 2400/3368\n",
            "- done 2500/3368\n",
            "- done 2600/3368\n",
            "- done 2700/3368\n",
            "- done 2800/3368\n",
            "- done 2900/3368\n",
            "- done 3000/3368\n",
            "- done 3100/3368\n",
            "- done 3200/3368\n",
            "- done 3300/3368\n",
            "Done. Images have been saved to \"log/osnet-softmax-market1501/visrank_market1501\" ...\n"
          ]
        }
      ],
      "source": [
        "# create manager object market1501 data\n",
        "market_datamanager = torchreid.data.ImageDataManager(\n",
        "    root=dir_path,\n",
        "    sources='market1501',\n",
        "    height=256,\n",
        "    width=128,\n",
        "    batch_size_train=32,\n",
        "    batch_size_test=100,\n",
        "    combineall=True\n",
        ")\n",
        "\n",
        "# create engine to test\n",
        "# first need to create optimizer\n",
        "# TBH, I am not sure why the code requires an optimizer when running eval\n",
        "# there are many inconsistencies and inconveniences like this\n",
        "optimizer = torchreid.optim.build_optimizer(\n",
        "    model, optim='adam', lr=0.0003\n",
        ")\n",
        "engine = torchreid.engine.ImageSoftmaxEngine(\n",
        "    market_datamanager, model, optimizer\n",
        ")\n",
        "\n",
        "engine.run(\n",
        "    max_epoch=60,\n",
        "    save_dir='log/osnet-softmax-market1501',\n",
        "    print_freq=10,\n",
        "    test_only=True,\n",
        "    visrank=True\n",
        ")"
      ]
    },
    {
      "cell_type": "code",
      "execution_count": 18,
      "metadata": {
        "colab": {
          "base_uri": "https://localhost:8080/"
        },
        "id": "gs1qeRsWqcw9",
        "outputId": "ac1b8f87-da81-47a9-da08-4f76d42f38d3"
      },
      "outputs": [
        {
          "data": {
            "text/plain": [
              "tensor([[[-0.3027, -0.3369, -0.3883,  ..., -0.1143, -0.1657, -0.1999],\n",
              "         [-0.2856, -0.3198, -0.3712,  ..., -0.0116, -0.0458, -0.0801],\n",
              "         [-0.2684, -0.3027, -0.3541,  ...,  0.1939,  0.1768,  0.1426],\n",
              "         ...,\n",
              "         [ 0.4851,  0.4679,  0.4508,  ..., -0.3541, -0.3369, -0.3198],\n",
              "         [ 0.4851,  0.4851,  0.4679,  ...,  0.1768,  0.2111,  0.2282],\n",
              "         [ 0.4851,  0.4851,  0.4679,  ...,  0.4508,  0.4851,  0.5022]],\n",
              "\n",
              "        [[-0.3025, -0.3375, -0.3901,  ...,  0.0651,  0.0126, -0.0224],\n",
              "         [-0.2850, -0.3200, -0.3725,  ...,  0.1877,  0.1352,  0.1176],\n",
              "         [-0.2675, -0.3025, -0.3550,  ...,  0.4153,  0.3978,  0.3803],\n",
              "         ...,\n",
              "         [ 0.4328,  0.4153,  0.3978,  ..., -0.4076, -0.3901, -0.3725],\n",
              "         [ 0.4328,  0.4328,  0.4153,  ...,  0.1527,  0.1877,  0.2052],\n",
              "         [ 0.4328,  0.4328,  0.4153,  ...,  0.4328,  0.4678,  0.4853]],\n",
              "\n",
              "        [[-0.1835, -0.2184, -0.2707,  ..., -0.2532, -0.3055, -0.3404],\n",
              "         [-0.1661, -0.2010, -0.2532,  ..., -0.1487, -0.1835, -0.2184],\n",
              "         [-0.1487, -0.1835, -0.2358,  ...,  0.0605,  0.0431,  0.0082],\n",
              "         ...,\n",
              "         [ 0.6008,  0.5834,  0.5485,  ..., -0.1661, -0.1487, -0.1312],\n",
              "         [ 0.6182,  0.6008,  0.5834,  ...,  0.3916,  0.4265,  0.4439],\n",
              "         [ 0.6182,  0.6182,  0.6008,  ...,  0.6705,  0.7054,  0.7228]]])"
            ]
          },
          "execution_count": 18,
          "metadata": {},
          "output_type": "execute_result"
        }
      ],
      "source": [
        "# single sample\n",
        "\n",
        "# get test loader from datamanager\n",
        "market_data_loader = market_datamanager.train_loader\n",
        "\n",
        "sample_batch = next(iter(market_data_loader))['img']\n",
        "sample = sample_batch[0]\n",
        "\n",
        "sample"
      ]
    },
    {
      "cell_type": "code",
      "execution_count": 23,
      "metadata": {
        "colab": {
          "base_uri": "https://localhost:8080/"
        },
        "id": "iG0D1DHirAjF",
        "outputId": "95d3ec50-43e9-4a62-9ecb-06e789e9de42"
      },
      "outputs": [
        {
          "data": {
            "text/plain": [
              "torch.Size([1, 512])"
            ]
          },
          "execution_count": 23,
          "metadata": {},
          "output_type": "execute_result"
        }
      ],
      "source": [
        "# let's check out the embedding (features) for the sample\n",
        "import torch\n",
        "\n",
        "sample_emb = model(torch.unsqueeze(sample, 0))\n",
        "sample_emb.shape"
      ]
    }
  ],
  "metadata": {
    "accelerator": "GPU",
    "colab": {
      "collapsed_sections": [
        "h3U5srGUZ7KC",
        "OCb8y8w7ci7w",
        "mEY6rAPYgEde",
        "I6BfQTJGhavk",
        "XerKyzxSkEic"
      ],
      "provenance": [],
      "toc_visible": true
    },
    "gpuClass": "standard",
    "kernelspec": {
      "display_name": "Python 3.8.10 64-bit",
      "language": "python",
      "name": "python3"
    },
    "language_info": {
      "name": "python",
      "version": "3.8.10"
    },
    "vscode": {
      "interpreter": {
        "hash": "916dbcbb3f70747c44a77c7bcd40155683ae19c65e1c03b4aa3499c5328201f1"
      }
    }
  },
  "nbformat": 4,
  "nbformat_minor": 0
}
